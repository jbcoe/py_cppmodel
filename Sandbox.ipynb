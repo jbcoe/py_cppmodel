{
 "cells": [
  {
   "cell_type": "code",
   "execution_count": null,
   "id": "df29dca7-2d79-42a0-b74f-3eebbd48512d",
   "metadata": {
    "tags": []
   },
   "outputs": [],
   "source": [
    "import py_cppmodel"
   ]
  },
  {
   "cell_type": "code",
   "execution_count": null,
   "id": "1d59eb20-7218-4619-9de2-e411cbed53f7",
   "metadata": {
    "tags": []
   },
   "outputs": [],
   "source": [
    "import clang.cindex"
   ]
  },
  {
   "cell_type": "code",
   "execution_count": null,
   "id": "66041f39-125c-4969-9a61-16d327b38fa4",
   "metadata": {
    "tags": []
   },
   "outputs": [],
   "source": [
    "# TODO: Change this for your OS-dependent or locally-built libclang path.\n",
    "clang.cindex.Config.set_library_file(\n",
    "    \"/Library/Developer/CommandLineTools/usr/lib/libclang.dylib\"\n",
    ")"
   ]
  },
  {
   "cell_type": "code",
   "execution_count": null,
   "id": "a4c57fec-9e2e-445a-b8cf-9d182f58d88c",
   "metadata": {
    "tags": []
   },
   "outputs": [],
   "source": [
    "COMPILER_ARGS = [\n",
    "    \"-x\",\n",
    "    \"c++\",\n",
    "    \"-std=c++20\",\n",
    "    \"-I/Library/Developer/CommandLineTools/SDKs/MacOSX.sdk/usr/include/c++/v1\",\n",
    "    \"-I/Library/Developer/CommandLineTools/usr/include\",\n",
    "]"
   ]
  },
  {
   "cell_type": "code",
   "execution_count": null,
   "id": "e9ba3ee3-b0a7-4b50-93b9-e05660760948",
   "metadata": {
    "tags": []
   },
   "outputs": [],
   "source": [
    "source = \"\"\"\n",
    "template <typename T>\n",
    "int foo(int a, int b) { return a + b; }\n",
    "\"\"\"\n",
    "\n",
    "tu = clang.cindex.TranslationUnit.from_source(\n",
    "    \"tmp.cc\", COMPILER_ARGS, unsaved_files=[(\"tmp.cc\", source)]\n",
    ")\n",
    "model = py_cppmodel.Model(tu)\n",
    "model"
   ]
  },
  {
   "cell_type": "code",
   "execution_count": null,
   "id": "d341bf1b-5df6-4405-9334-6af4fd7c57c3",
   "metadata": {
    "tags": []
   },
   "outputs": [],
   "source": [
    "model.unmodelled_nodes"
   ]
  },
  {
   "cell_type": "code",
   "execution_count": null,
   "id": "e6ab9afc-e459-4864-bc95-9f7b1d1d67ae",
   "metadata": {},
   "outputs": [],
   "source": []
  }
 ],
 "metadata": {
  "kernelspec": {
   "display_name": "Python 3 (ipykernel)",
   "language": "python",
   "name": "python3"
  },
  "language_info": {
   "codemirror_mode": {
    "name": "ipython",
    "version": 3
   },
   "file_extension": ".py",
   "mimetype": "text/x-python",
   "name": "python",
   "nbconvert_exporter": "python",
   "pygments_lexer": "ipython3",
   "version": "3.10.14"
  }
 },
 "nbformat": 4,
 "nbformat_minor": 5
}
