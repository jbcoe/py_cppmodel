{
 "cells": [
  {
   "cell_type": "code",
   "execution_count": null,
   "id": "0",
   "metadata": {
    "tags": []
   },
   "outputs": [],
   "source": [
    "import py_cppmodel"
   ]
  },
  {
   "cell_type": "code",
   "execution_count": null,
   "id": "1",
   "metadata": {
    "tags": []
   },
   "outputs": [],
   "source": [
    "import clang.cindex"
   ]
  },
  {
   "cell_type": "code",
   "execution_count": null,
   "id": "2",
   "metadata": {
    "tags": []
   },
   "outputs": [],
   "source": [
    "# TODO: Change this for your OS-dependent or locally-built libclang path.\n",
    "clang.cindex.Config.set_library_file(\n",
    "    \"/Library/Developer/CommandLineTools/usr/lib/libclang.dylib\"\n",
    ")"
   ]
  },
  {
   "cell_type": "code",
   "execution_count": null,
   "id": "3",
   "metadata": {
    "tags": []
   },
   "outputs": [],
   "source": [
    "COMPILER_ARGS = [\n",
    "    \"-x\",\n",
    "    \"c++\",\n",
    "    \"-std=c++20\",\n",
    "    \"-I/Library/Developer/CommandLineTools/SDKs/MacOSX.sdk/usr/include/c++/v1\",\n",
    "    \"-I/Library/Developer/CommandLineTools/usr/include\",\n",
    "]"
   ]
  },
  {
   "cell_type": "code",
   "execution_count": null,
   "id": "4",
   "metadata": {
    "tags": []
   },
   "outputs": [],
   "source": [
    "source = \"\"\"\n",
    "template <typename T>\n",
    "int foo(int a, int b) { return a + b; }\n",
    "\"\"\"\n",
    "\n",
    "tu = clang.cindex.TranslationUnit.from_source(\n",
    "    \"tmp.cc\", COMPILER_ARGS, unsaved_files=[(\"tmp.cc\", source)]\n",
    ")\n",
    "model = py_cppmodel.Model(tu)\n",
    "model"
   ]
  },
  {
   "cell_type": "code",
   "execution_count": null,
   "id": "5",
   "metadata": {
    "tags": []
   },
   "outputs": [],
   "source": [
    "model.unmodelled_nodes"
   ]
  },
  {
   "cell_type": "code",
   "execution_count": null,
   "id": "6",
   "metadata": {},
   "outputs": [],
   "source": []
  }
 ],
 "metadata": {
  "kernelspec": {
   "display_name": "Python 3 (ipykernel)",
   "language": "python",
   "name": "python3"
  },
  "language_info": {
   "codemirror_mode": {
    "name": "ipython",
    "version": 3
   },
   "file_extension": ".py",
   "mimetype": "text/x-python",
   "name": "python",
   "nbconvert_exporter": "python",
   "pygments_lexer": "ipython3",
   "version": "3.10.14"
  }
 },
 "nbformat": 4,
 "nbformat_minor": 5
}
